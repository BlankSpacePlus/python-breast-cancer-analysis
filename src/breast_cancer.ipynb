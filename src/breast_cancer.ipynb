{
 "cells": [
  {
   "cell_type": "markdown",
   "source": [
    "# 导入依赖"
   ],
   "metadata": {
    "collapsed": false
   }
  },
  {
   "cell_type": "code",
   "execution_count": 1,
   "outputs": [],
   "source": [
    "import numpy as np\n",
    "import matplotlib.pyplot as plt\n",
    "from sklearn.datasets import load_breast_cancer\n",
    "from sklearn.decomposition import PCA\n",
    "from sklearn.metrics import classification_report\n",
    "from sklearn.metrics import accuracy_score\n",
    "from sklearn.metrics import cohen_kappa_score\n",
    "from sklearn.metrics import f1_score\n",
    "from sklearn.metrics import precision_score\n",
    "from sklearn.metrics import recall_score\n",
    "from sklearn.metrics import roc_curve\n",
    "from sklearn.model_selection import train_test_split\n",
    "from sklearn.preprocessing import MinMaxScaler\n",
    "from sklearn.preprocessing import StandardScaler\n",
    "from sklearn.svm import SVC"
   ],
   "metadata": {
    "collapsed": false
   }
  },
  {
   "cell_type": "markdown",
   "metadata": {},
   "source": [
    "# 数据集基本信息"
   ]
  },
  {
   "cell_type": "code",
   "execution_count": 2,
   "metadata": {},
   "outputs": [
    {
     "name": "stdout",
     "output_type": "stream",
     "text": [
      "breast_cancer数据集的长度为： 8\n",
      "breast_cancer数据集的类型为： <class 'sklearn.utils.Bunch'>\n"
     ]
    }
   ],
   "source": [
    "# 将数据集赋值给cancer变量\n",
    "cancer = load_breast_cancer()\n",
    "print('breast_cancer数据集的长度为：', len(cancer))\n",
    "print('breast_cancer数据集的类型为：', type(cancer))"
   ]
  },
  {
   "cell_type": "code",
   "execution_count": 3,
   "metadata": {},
   "outputs": [
    {
     "name": "stdout",
     "output_type": "stream",
     "text": [
      "breast_cancer数据集的数据为：\n",
      " [[1.799e+01 1.038e+01 1.228e+02 ... 2.654e-01 4.601e-01 1.189e-01]\n",
      " [2.057e+01 1.777e+01 1.329e+02 ... 1.860e-01 2.750e-01 8.902e-02]\n",
      " [1.969e+01 2.125e+01 1.300e+02 ... 2.430e-01 3.613e-01 8.758e-02]\n",
      " ...\n",
      " [1.660e+01 2.808e+01 1.083e+02 ... 1.418e-01 2.218e-01 7.820e-02]\n",
      " [2.060e+01 2.933e+01 1.401e+02 ... 2.650e-01 4.087e-01 1.240e-01]\n",
      " [7.760e+00 2.454e+01 4.792e+01 ... 0.000e+00 2.871e-01 7.039e-02]]\n"
     ]
    }
   ],
   "source": [
    "# 获取cancer数据集的数据\n",
    "cancer_data = cancer['data']\n",
    "print('breast_cancer数据集的数据为：\\n', cancer_data)"
   ]
  },
  {
   "cell_type": "code",
   "execution_count": 4,
   "metadata": {},
   "outputs": [
    {
     "name": "stdout",
     "output_type": "stream",
     "text": [
      "breast_cancer数据集的标签为：\n",
      " [0 0 0 0 0 0 0 0 0 0 0 0 0 0 0 0 0 0 0 1 1 1 0 0 0 0 0 0 0 0 0 0 0 0 0 0 0\n",
      " 1 0 0 0 0 0 0 0 0 1 0 1 1 1 1 1 0 0 1 0 0 1 1 1 1 0 1 0 0 1 1 1 1 0 1 0 0\n",
      " 1 0 1 0 0 1 1 1 0 0 1 0 0 0 1 1 1 0 1 1 0 0 1 1 1 0 0 1 1 1 1 0 1 1 0 1 1\n",
      " 1 1 1 1 1 1 0 0 0 1 0 0 1 1 1 0 0 1 0 1 0 0 1 0 0 1 1 0 1 1 0 1 1 1 1 0 1\n",
      " 1 1 1 1 1 1 1 1 0 1 1 1 1 0 0 1 0 1 1 0 0 1 1 0 0 1 1 1 1 0 1 1 0 0 0 1 0\n",
      " 1 0 1 1 1 0 1 1 0 0 1 0 0 0 0 1 0 0 0 1 0 1 0 1 1 0 1 0 0 0 0 1 1 0 0 1 1\n",
      " 1 0 1 1 1 1 1 0 0 1 1 0 1 1 0 0 1 0 1 1 1 1 0 1 1 1 1 1 0 1 0 0 0 0 0 0 0\n",
      " 0 0 0 0 0 0 0 1 1 1 1 1 1 0 1 0 1 1 0 1 1 0 1 0 0 1 1 1 1 1 1 1 1 1 1 1 1\n",
      " 1 0 1 1 0 1 0 1 1 1 1 1 1 1 1 1 1 1 1 1 1 0 1 1 1 0 1 0 1 1 1 1 0 0 0 1 1\n",
      " 1 1 0 1 0 1 0 1 1 1 0 1 1 1 1 1 1 1 0 0 0 1 1 1 1 1 1 1 1 1 1 1 0 0 1 0 0\n",
      " 0 1 0 0 1 1 1 1 1 0 1 1 1 1 1 0 1 1 1 0 1 1 0 0 1 1 1 1 1 1 0 1 1 1 1 1 1\n",
      " 1 0 1 1 1 1 1 0 1 1 0 1 1 1 1 1 1 1 1 1 1 1 1 0 1 0 0 1 0 1 1 1 1 1 0 1 1\n",
      " 0 1 0 1 1 0 1 0 1 1 1 1 1 1 1 1 0 0 1 1 1 1 1 1 0 1 1 1 1 1 1 1 1 1 1 0 1\n",
      " 1 1 1 1 1 1 0 1 0 1 1 0 1 1 1 1 1 0 0 1 0 1 0 1 1 1 1 1 0 1 1 0 1 0 1 0 0\n",
      " 1 1 1 0 1 1 1 1 1 1 1 1 1 1 1 0 1 0 0 1 1 1 1 1 1 1 1 1 1 1 1 1 1 1 1 1 1\n",
      " 1 1 1 1 1 1 1 0 0 0 0 0 0 1]\n"
     ]
    }
   ],
   "source": [
    "# 取出cancer数据集的标签\n",
    "cancer_target = cancer['target']\n",
    "print('breast_cancer数据集的标签为：\\n', cancer_target)"
   ]
  },
  {
   "cell_type": "code",
   "execution_count": 5,
   "metadata": {},
   "outputs": [
    {
     "name": "stdout",
     "output_type": "stream",
     "text": [
      "breast_cancer数据集的特征名为：\n",
      " ['mean radius' 'mean texture' 'mean perimeter' 'mean area'\n",
      " 'mean smoothness' 'mean compactness' 'mean concavity'\n",
      " 'mean concave points' 'mean symmetry' 'mean fractal dimension'\n",
      " 'radius error' 'texture error' 'perimeter error' 'area error'\n",
      " 'smoothness error' 'compactness error' 'concavity error'\n",
      " 'concave points error' 'symmetry error' 'fractal dimension error'\n",
      " 'worst radius' 'worst texture' 'worst perimeter' 'worst area'\n",
      " 'worst smoothness' 'worst compactness' 'worst concavity'\n",
      " 'worst concave points' 'worst symmetry' 'worst fractal dimension']\n"
     ]
    }
   ],
   "source": [
    "# 取出cancer数据集的特征名\n",
    "cancer_names = cancer['feature_names']\n",
    "print('breast_cancer数据集的特征名为：\\n', cancer_names)"
   ]
  },
  {
   "cell_type": "code",
   "execution_count": 6,
   "metadata": {},
   "outputs": [
    {
     "name": "stdout",
     "output_type": "stream",
     "text": [
      "breast_cancer数据集的描述信息为：\n",
      " .. _breast_cancer_dataset:\n",
      "\n",
      "Breast cancer wisconsin (diagnostic) dataset\n",
      "--------------------------------------------\n",
      "\n",
      "**Data Set Characteristics:**\n",
      "\n",
      "    :Number of Instances: 569\n",
      "\n",
      "    :Number of Attributes: 30 numeric, predictive attributes and the class\n",
      "\n",
      "    :Attribute Information:\n",
      "        - radius (mean of distances from center to points on the perimeter)\n",
      "        - texture (standard deviation of gray-scale values)\n",
      "        - perimeter\n",
      "        - area\n",
      "        - smoothness (local variation in radius lengths)\n",
      "        - compactness (perimeter^2 / area - 1.0)\n",
      "        - concavity (severity of concave portions of the contour)\n",
      "        - concave points (number of concave portions of the contour)\n",
      "        - symmetry\n",
      "        - fractal dimension (\"coastline approximation\" - 1)\n",
      "\n",
      "        The mean, standard error, and \"worst\" or largest (mean of the three\n",
      "        worst/largest values) of these features were computed for each image,\n",
      "        resulting in 30 features.  For instance, field 0 is Mean Radius, field\n",
      "        10 is Radius SE, field 20 is Worst Radius.\n",
      "\n",
      "        - class:\n",
      "                - WDBC-Malignant\n",
      "                - WDBC-Benign\n",
      "\n",
      "    :Summary Statistics:\n",
      "\n",
      "    ===================================== ====== ======\n",
      "                                           Min    Max\n",
      "    ===================================== ====== ======\n",
      "    radius (mean):                        6.981  28.11\n",
      "    texture (mean):                       9.71   39.28\n",
      "    perimeter (mean):                     43.79  188.5\n",
      "    area (mean):                          143.5  2501.0\n",
      "    smoothness (mean):                    0.053  0.163\n",
      "    compactness (mean):                   0.019  0.345\n",
      "    concavity (mean):                     0.0    0.427\n",
      "    concave points (mean):                0.0    0.201\n",
      "    symmetry (mean):                      0.106  0.304\n",
      "    fractal dimension (mean):             0.05   0.097\n",
      "    radius (standard error):              0.112  2.873\n",
      "    texture (standard error):             0.36   4.885\n",
      "    perimeter (standard error):           0.757  21.98\n",
      "    area (standard error):                6.802  542.2\n",
      "    smoothness (standard error):          0.002  0.031\n",
      "    compactness (standard error):         0.002  0.135\n",
      "    concavity (standard error):           0.0    0.396\n",
      "    concave points (standard error):      0.0    0.053\n",
      "    symmetry (standard error):            0.008  0.079\n",
      "    fractal dimension (standard error):   0.001  0.03\n",
      "    radius (worst):                       7.93   36.04\n",
      "    texture (worst):                      12.02  49.54\n",
      "    perimeter (worst):                    50.41  251.2\n",
      "    area (worst):                         185.2  4254.0\n",
      "    smoothness (worst):                   0.071  0.223\n",
      "    compactness (worst):                  0.027  1.058\n",
      "    concavity (worst):                    0.0    1.252\n",
      "    concave points (worst):               0.0    0.291\n",
      "    symmetry (worst):                     0.156  0.664\n",
      "    fractal dimension (worst):            0.055  0.208\n",
      "    ===================================== ====== ======\n",
      "\n",
      "    :Missing Attribute Values: None\n",
      "\n",
      "    :Class Distribution: 212 - Malignant, 357 - Benign\n",
      "\n",
      "    :Creator:  Dr. William H. Wolberg, W. Nick Street, Olvi L. Mangasarian\n",
      "\n",
      "    :Donor: Nick Street\n",
      "\n",
      "    :Date: November, 1995\n",
      "\n",
      "This is a copy of UCI ML Breast Cancer Wisconsin (Diagnostic) datasets.\n",
      "https://goo.gl/U2Uwz2\n",
      "\n",
      "Features are computed from a digitized image of a fine needle\n",
      "aspirate (FNA) of a breast mass.  They describe\n",
      "characteristics of the cell nuclei present in the image.\n",
      "\n",
      "Separating plane described above was obtained using\n",
      "Multisurface Method-Tree (MSM-T) [K. P. Bennett, \"Decision Tree\n",
      "Construction Via Linear Programming.\" Proceedings of the 4th\n",
      "Midwest Artificial Intelligence and Cognitive Science Society,\n",
      "pp. 97-101, 1992], a classification method which uses linear\n",
      "programming to construct a decision tree.  Relevant features\n",
      "were selected using an exhaustive search in the space of 1-4\n",
      "features and 1-3 separating planes.\n",
      "\n",
      "The actual linear program used to obtain the separating plane\n",
      "in the 3-dimensional space is that described in:\n",
      "[K. P. Bennett and O. L. Mangasarian: \"Robust Linear\n",
      "Programming Discrimination of Two Linearly Inseparable Sets\",\n",
      "Optimization Methods and Software 1, 1992, 23-34].\n",
      "\n",
      "This database is also available through the UW CS ftp server:\n",
      "\n",
      "ftp ftp.cs.wisc.edu\n",
      "cd math-prog/cpo-dataset/machine-learn/WDBC/\n",
      "\n",
      ".. topic:: References\n",
      "\n",
      "   - W.N. Street, W.H. Wolberg and O.L. Mangasarian. Nuclear feature extraction \n",
      "     for breast tumor diagnosis. IS&T/SPIE 1993 International Symposium on \n",
      "     Electronic Imaging: Science and Technology, volume 1905, pages 861-870,\n",
      "     San Jose, CA, 1993.\n",
      "   - O.L. Mangasarian, W.N. Street and W.H. Wolberg. Breast cancer diagnosis and \n",
      "     prognosis via linear programming. Operations Research, 43(4), pages 570-577, \n",
      "     July-August 1995.\n",
      "   - W.H. Wolberg, W.N. Street, and O.L. Mangasarian. Machine learning techniques\n",
      "     to diagnose breast cancer from fine-needle aspirates. Cancer Letters 77 (1994) \n",
      "     163-171.\n"
     ]
    }
   ],
   "source": [
    "# 取出cancer数据集的描述信息\n",
    "cancer_desc = cancer['DESCR']\n",
    "print('breast_cancer数据集的描述信息为：\\n', cancer_desc)"
   ]
  },
  {
   "cell_type": "code",
   "execution_count": 7,
   "metadata": {},
   "outputs": [
    {
     "name": "stdout",
     "output_type": "stream",
     "text": [
      "breast_cancer数据集数据的形状为： (569, 30)\n",
      "breast_cancer数据集标签的形状为： (569,)\n"
     ]
    }
   ],
   "source": [
    "# 数据集的形状\n",
    "print('breast_cancer数据集数据的形状为：', cancer_data.shape)\n",
    "print('breast_cancer数据集标签的形状为：', cancer_target.shape)"
   ]
  },
  {
   "cell_type": "markdown",
   "source": [
    "# 划分数据集"
   ],
   "metadata": {
    "collapsed": false
   }
  },
  {
   "cell_type": "code",
   "execution_count": 8,
   "metadata": {},
   "outputs": [
    {
     "name": "stdout",
     "output_type": "stream",
     "text": [
      "breast_cancer训练集数据的形状为： (455, 30)\n",
      "breast_cancer训练集标签的形状为： (455,)\n",
      "breast_cancer测试集数据的形状为： (114, 30)\n",
      "breast_cancer测试集标签的形状为： (114,)\n"
     ]
    }
   ],
   "source": [
    "# 训练集/测试集划分\n",
    "cancer_data_train, cancer_data_test, cancer_target_train, cancer_target_test = train_test_split(cancer_data,\n",
    "                                                                                                cancer_target,\n",
    "                                                                                                test_size=0.2,\n",
    "                                                                                                random_state=22)\n",
    "print('breast_cancer训练集数据的形状为：', cancer_data_train.shape)\n",
    "print('breast_cancer训练集标签的形状为：', cancer_target_train.shape)\n",
    "print('breast_cancer测试集数据的形状为：', cancer_data_test.shape)\n",
    "print('breast_cancer测试集标签的形状为：', cancer_target_test.shape)"
   ]
  },
  {
   "cell_type": "markdown",
   "source": [
    "# 离差标准化"
   ],
   "metadata": {
    "collapsed": false
   }
  },
  {
   "cell_type": "code",
   "execution_count": 9,
   "metadata": {},
   "outputs": [
    {
     "name": "stdout",
     "output_type": "stream",
     "text": [
      "离差标准化前breast_cancer训练集数据的最小值为： 0.0\n",
      "离差标准化后breast_cancer训练集数据的最小值为： 0.0\n",
      "离差标准化前breast_cancer训练集数据的最大值为： 4254.0\n",
      "离差标准化后breast_cancer训练集数据的最大值为： 1.0000000000000002\n",
      "离差标准化前breast_cancer测试集数据的最小值为： 0.0\n",
      "离差标准化后breast_cancer测试集数据的最小值为： -0.11764705882352944\n",
      "离差标准化前breast_cancer测试集数据的最大值为： 2642.0\n",
      "离差标准化后breast_cancer测试集数据的最大值为： 1.270473328324568\n"
     ]
    }
   ],
   "source": [
    "# 生成规则\n",
    "min_max_scaler = MinMaxScaler().fit(cancer_data_train)\n",
    "# 将规则应用于训练集\n",
    "cancer_train_scaler = min_max_scaler.transform(cancer_data_train)\n",
    "# 将规则应用于测试集\n",
    "cancer_test_scaler = min_max_scaler.transform(cancer_data_test)\n",
    "print('离差标准化前breast_cancer训练集数据的最小值为：', np.min(cancer_data_train))\n",
    "print('离差标准化后breast_cancer训练集数据的最小值为：', np.min(cancer_train_scaler))\n",
    "print('离差标准化前breast_cancer训练集数据的最大值为：', np.max(cancer_data_train))\n",
    "print('离差标准化后breast_cancer训练集数据的最大值为：', np.max(cancer_train_scaler))\n",
    "print('离差标准化前breast_cancer测试集数据的最小值为：', np.min(cancer_data_test))\n",
    "print('离差标准化后breast_cancer测试集数据的最小值为：', np.min(cancer_test_scaler))\n",
    "print('离差标准化前breast_cancer测试集数据的最大值为：', np.max(cancer_data_test))\n",
    "print('离差标准化后breast_cancer测试集数据的最大值为：', np.max(cancer_test_scaler))"
   ]
  },
  {
   "cell_type": "code",
   "execution_count": 10,
   "metadata": {},
   "outputs": [
    {
     "name": "stdout",
     "output_type": "stream",
     "text": [
      "PCA降维前breast_cancer训练集数据的形状为： (455, 30)\n",
      "PCA降维后breast_cancer训练集数据的形状为： (455, 10)\n",
      "PCA降维前breast_cancer测试集数据的形状为： (114, 30)\n",
      "PCA降维后breast_cancer测试集数据的形状为： (114, 10)\n"
     ]
    }
   ],
   "source": [
    "# 生成规则\n",
    "pca_model = PCA(n_components=10).fit(cancer_train_scaler)\n",
    "# 将规则应用于训练集\n",
    "cancer_train_pca = pca_model.transform(cancer_train_scaler)\n",
    "# 将规则应用于测试集\n",
    "cancer_test_pca = pca_model.transform(cancer_test_scaler)\n",
    "print('PCA降维前breast_cancer训练集数据的形状为：', cancer_train_scaler.shape)\n",
    "print('PCA降维后breast_cancer训练集数据的形状为：', cancer_train_pca.shape)\n",
    "print('PCA降维前breast_cancer测试集数据的形状为：', cancer_test_scaler.shape)\n",
    "print('PCA降维后breast_cancer测试集数据的形状为：', cancer_test_pca.shape)"
   ]
  },
  {
   "cell_type": "markdown",
   "source": [
    "# 数据标准化"
   ],
   "metadata": {
    "collapsed": false
   }
  },
  {
   "cell_type": "code",
   "execution_count": 11,
   "outputs": [],
   "source": [
    "std_scaler = StandardScaler().fit(cancer_data_train)\n",
    "cancer_train_std = std_scaler.transform(cancer_data_train)\n",
    "cancer_test_std = std_scaler.transform(cancer_data_test)"
   ],
   "metadata": {
    "collapsed": false
   }
  },
  {
   "cell_type": "markdown",
   "source": [
    "# 训练模型"
   ],
   "metadata": {
    "collapsed": false
   }
  },
  {
   "cell_type": "code",
   "execution_count": 12,
   "outputs": [
    {
     "name": "stdout",
     "output_type": "stream",
     "text": [
      "建立的SVM模型为： SVC()\n"
     ]
    }
   ],
   "source": [
    "svm = SVC().fit(cancer_train_std, cancer_target_train)\n",
    "print('建立的SVM模型为：', svm)"
   ],
   "metadata": {
    "collapsed": false
   }
  },
  {
   "cell_type": "markdown",
   "source": [
    "# 预测结果评估"
   ],
   "metadata": {
    "collapsed": false
   }
  },
  {
   "cell_type": "code",
   "execution_count": 13,
   "outputs": [
    {
     "name": "stdout",
     "output_type": "stream",
     "text": [
      "预测前20个结果为：\n",
      " [1 0 0 0 1 1 1 1 1 1 1 1 0 1 1 1 0 0 1 1]\n"
     ]
    }
   ],
   "source": [
    "# 获取预测结果\n",
    "cancer_target_pred = svm.predict(cancer_test_std)\n",
    "print('预测前20个结果为：\\n', cancer_target_pred[:20])"
   ],
   "metadata": {
    "collapsed": false
   }
  },
  {
   "cell_type": "code",
   "execution_count": 14,
   "outputs": [
    {
     "name": "stdout",
     "output_type": "stream",
     "text": [
      "预测对的结果数目为： 111\n",
      "预测错的的结果数目为： 3\n",
      "预测结果准确率为： 0.9736842105263158\n"
     ]
    }
   ],
   "source": [
    "# 混淆矩阵与准确率\n",
    "truth_num = np.sum(cancer_target_pred == cancer_target_test)\n",
    "print('预测对的结果数目为：', truth_num)\n",
    "print('预测错的的结果数目为：', cancer_target_test.shape[0] - truth_num)\n",
    "print('预测结果准确率为：', truth_num / cancer_target_test.shape[0])"
   ],
   "metadata": {
    "collapsed": false
   }
  },
  {
   "cell_type": "code",
   "execution_count": 15,
   "outputs": [
    {
     "name": "stdout",
     "output_type": "stream",
     "text": [
      "使用SVM预测breast_cancer数据的准确率为： 0.9736842105263158\n",
      "使用SVM预测breast_cancer数据的精确率为： 0.9594594594594594\n",
      "使用SVM预测breast_cancer数据的召回率为： 1.0\n",
      "使用SVM预测breast_cancer数据的F1值为： 0.9793103448275862\n",
      "使用SVM预测breast_cancer数据的Cohen’s Kappa系数为： 0.9432082364662903\n",
      "使用SVM预测iris数据的分类报告为： \n",
      "               precision    recall  f1-score   support\n",
      "\n",
      "           0       1.00      0.93      0.96        43\n",
      "           1       0.96      1.00      0.98        71\n",
      "\n",
      "    accuracy                           0.97       114\n",
      "   macro avg       0.98      0.97      0.97       114\n",
      "weighted avg       0.97      0.97      0.97       114\n",
      "\n"
     ]
    }
   ],
   "source": [
    "# 分类模型常用评估方法\n",
    "print('使用SVM预测breast_cancer数据的准确率为：', accuracy_score(cancer_target_test,cancer_target_pred))\n",
    "print('使用SVM预测breast_cancer数据的精确率为：', precision_score(cancer_target_test,cancer_target_pred))\n",
    "print('使用SVM预测breast_cancer数据的召回率为：', recall_score(cancer_target_test,cancer_target_pred))\n",
    "print('使用SVM预测breast_cancer数据的F1值为：', f1_score(cancer_target_test,cancer_target_pred))\n",
    "print('使用SVM预测breast_cancer数据的Cohen’s Kappa系数为：', cohen_kappa_score(cancer_target_test,cancer_target_pred))\n",
    "print('使用SVM预测iris数据的分类报告为：','\\n', classification_report(cancer_target_test, cancer_target_pred))"
   ],
   "metadata": {
    "collapsed": false
   }
  },
  {
   "cell_type": "code",
   "execution_count": 16,
   "outputs": [
    {
     "data": {
      "text/plain": "<Figure size 1000x600 with 1 Axes>",
      "image/png": "[encoded data removed]"
     },
     "metadata": {},
     "output_type": "display_data"
    }
   ],
   "source": [
    "# 绘制ROC曲线\n",
    "fpr, tpr, thresholds = roc_curve(cancer_target_test,cancer_target_pred)\n",
    "plt.figure(figsize=(10,6))\n",
    "plt.xlim(0,1)\n",
    "plt.ylim(0.0,1.1)\n",
    "plt.xlabel('False Positive Rate')\n",
    "plt.ylabel('True Positive Rate')\n",
    "plt.plot(fpr,tpr,linewidth=2, linestyle=\"-\",color='red')\n",
    "plt.savefig('../images/乳腺癌预测ROC曲线.png')\n",
    "plt.show()"
   ],
   "metadata": {
    "collapsed": false
   }
  }
 ],
 "metadata": {
  "kernelspec": {
   "display_name": "Python 3 (ipykernel)",
   "language": "python",
   "name": "python3"
  },
  "language_info": {
   "codemirror_mode": {
    "name": "ipython",
    "version": 3
   },
   "file_extension": ".py",
   "mimetype": "text/x-python",
   "name": "python",
   "nbconvert_exporter": "python",
   "pygments_lexer": "ipython3",
   "version": "3.7.0"
  }
 },
 "nbformat": 4,
 "nbformat_minor": 1
}
